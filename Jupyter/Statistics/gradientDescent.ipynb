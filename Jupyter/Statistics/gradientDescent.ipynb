{
 "cells": [
  {
   "cell_type": "code",
   "execution_count": 1,
   "metadata": {},
   "outputs": [],
   "source": [
    "import numpy as np\n",
    "import matplotlib.pyplot as plt\n",
    "\n",
    "%matplotlib notebook"
   ]
  },
  {
   "cell_type": "code",
   "execution_count": 11,
   "metadata": {},
   "outputs": [],
   "source": [
    "class normalizeTable():\n",
    "    \n",
    "    class normalize:\n",
    "        def __init__(self, data):\n",
    "            self.normalizeData(data)\n",
    "\n",
    "        def normalizeData(self, data):\n",
    "            self.mean = np.mean(data)\n",
    "            self.std  = data.std()\n",
    "            if (self.std == 0):\n",
    "                self.norData = data + 0.001\n",
    "            else:\n",
    "                self.norData = ((data - self.mean) / self.std) + 0.001\n",
    "                \n",
    "        def normalizeVal(self, value):\n",
    "            return ((value - self.mean) / self.std) + 0.001        \n",
    "\n",
    "        def getNorData(self):\n",
    "            return self.norData\n",
    "    \n",
    "    def __init__(self, data):\n",
    "        rows, cols = data.shape\n",
    "        self.features = []\n",
    "        norData  = np.zeros_like(data)\n",
    "        for col in range(cols):\n",
    "            self.features.append(self.normalize(data[:,col]))\n",
    "            norData[:,col] = self.features[col].getNorData()\n",
    "\n",
    "        self.X = norData[:,0:data.shape[1]-1]\n",
    "        self.Y = np.matrix(norData[:,-1])\n",
    "    \n",
    "    def getXY_features(self):\n",
    "        return self.X, self.Y.T, self.features\n",
    "    \n",
    "    def __call__(self, feature, value):\n",
    "        self.features[feature].normalizeVal( value )\n",
    "\n",
    "def show(X, Y, Y2, labels):\n",
    "    plt.figure()\n",
    "    plt.title('Normalize Data')\n",
    "    for col in range(X.shape[1]):\n",
    "        plt.plot(X[:,col], label=labels[col])\n",
    "    plt.plot(Y, label=labels[-2])\n",
    "    plt.plot(Y2, label=labels[-1])\n",
    "    plt.legend()\n",
    "    plt.grid()\n",
    "    \n",
    "def costFunction(X, Y, theta):\n",
    "    return np.sum((X * theta.T - Y)**2)\n",
    "\n",
    "def computeCost(X, Y, theta):\n",
    "    inner = np.power(((X * theta.T) - Y), 2)\n",
    "    return np.sum(inner / (2 * len(X)))\n",
    "\n",
    "def gradientDescent(X, Y, theta, alpha, iters):\n",
    "    parameters = int(theta.ravel().shape[1])\n",
    "    cost = np.zeros(iters)\n",
    "    \n",
    "    for i in range(iters):\n",
    "        error = (X * theta.T) - Y\n",
    "        for j in range(parameters):\n",
    "            term = np.multiply(error.T, X[:,j])\n",
    "            theta[0,j] = theta[0,j] - ((alpha / len(X)) * np.sum(term))\n",
    "        cost[i] = computeCost(X, Y, theta)\n",
    "        \n",
    "    return theta, cost"
   ]
  },
  {
   "cell_type": "code",
   "execution_count": 31,
   "metadata": {},
   "outputs": [],
   "source": [
    "data = np.array([[1,2104,3,399900],\n",
    "    [1,1600,3,329900],\n",
    "    [1,2400,3,369000],\n",
    "    [1,1416,2,232000],\n",
    "    [1,3000,4,539900]]).astype(float)\n",
    "labels = ['off','sqrt','bdr','price', 'est.']\n",
    "\n",
    "normData = normalizeTable(data)\n",
    "X, Y, features = normData.getXY_features()\n",
    "\n",
    "theta = np.matrix([-2.12, 0.21, 0.34])\n",
    "Y = X * theta.T\n"
   ]
  },
  {
   "cell_type": "code",
   "execution_count": 32,
   "metadata": {
    "scrolled": false
   },
   "outputs": [
    {
     "data": {
      "image/png": "[encoded data removed]",
      "text/plain": [
       "<Figure size 432x288 with 1 Axes>"
      ]
     },
     "metadata": {
      "needs_background": "light"
     },
     "output_type": "display_data"
    },
    {
     "data": {
      "image/png": "[encoded data removed]",
      "text/plain": [
       "<Figure size 432x288 with 1 Axes>"
      ]
     },
     "metadata": {
      "needs_background": "light"
     },
     "output_type": "display_data"
    }
   ],
   "source": [
    "alpha = 0.05\n",
    "iters = 1000\n",
    "theta = np.matrix([0, 0, 0]).astype(float)\n",
    "theta, cost = gradientDescent(X, Y, theta, alpha, iters)\n",
    "\n",
    "Y2 = X * theta.T\n",
    "show(X, Y, Y2, labels)\n",
    "\n",
    "plt.figure()\n",
    "plt.plot(cost)\n",
    "plt.grid()"
   ]
  },
  {
   "cell_type": "code",
   "execution_count": 22,
   "metadata": {},
   "outputs": [
    {
     "name": "stdout",
     "output_type": "stream",
     "text": [
      "[[0.11999495 0.22968146 0.32031854]]\n"
     ]
    }
   ],
   "source": [
    "print( theta )"
   ]
  },
  {
   "cell_type": "code",
   "execution_count": null,
   "metadata": {},
   "outputs": [],
   "source": []
  }
 ],
 "metadata": {
  "kernelspec": {
   "display_name": "Python 3",
   "language": "python",
   "name": "python3"
  },
  "language_info": {
   "codemirror_mode": {
    "name": "ipython",
    "version": 2
   },
   "file_extension": ".py",
   "mimetype": "text/x-python",
   "name": "python",
   "nbconvert_exporter": "python",
   "pygments_lexer": "ipython2",
   "version": "2.7.15+"
  }
 },
 "nbformat": 4,
 "nbformat_minor": 2
}
