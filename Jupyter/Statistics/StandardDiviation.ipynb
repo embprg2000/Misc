{
 "cells": [
  {
   "cell_type": "markdown",
   "metadata": {},
   "source": [
    "# Standard Deviation\n",
    "The standand deviation is defined as:\n",
    "$$\\sigma=\\sqrt{\\frac{1}{N}\\sum_{i=0}^{N-1}\\left(x_i - \\bar x\\right)^2}$$"
   ]
  },
  {
   "cell_type": "markdown",
   "metadata": {},
   "source": [
    "To calculate the standard deviation you could first calculate the average $ \\bar x $ and then aply the above formula but that would require two for loops. So lets rewrite the equation as:"
   ]
  },
  {
   "cell_type": "markdown",
   "metadata": {},
   "source": [
    "$$\\sigma=\\sqrt{\\frac{1}{N}\\left[\\left(\\sum_{i=0}^{N-1}x_i^2\\right) - \\left(\\sum_{i=0}^{N-1}2x_i\\bar x\\right) + \\left(\\sum_{i=0}^{N-1}\\bar x^2\\right) \\right]}$$"
   ]
  },
  {
   "cell_type": "markdown",
   "metadata": {},
   "source": [
    "Of course $$\\sum_{i=0}^{N-1}x_i = \\sum_{i=0}^{N-1}\\bar x$$ so the term in the middle reduces to $$- \\sum_{i=0}^{N-1}2x_i\\bar x= - \\sum_{i=0}^{N-1}2\\bar x^2$$\n",
    "Simplifying the equation gives:\n",
    "$$\\sigma=\\sqrt{\\frac{1}{N}\\left[\\sum_{i=0}^{N-1}x_i^2 - \\sum_{i=0}^{N-1}\\bar x^2\\right]}=\\sqrt{\\frac{1}{N}\\left(\\sum_{i=0}^{N-1}x_i^2\\right) - \\bar x^2}$$"
   ]
  },
  {
   "cell_type": "code",
   "execution_count": 31,
   "metadata": {},
   "outputs": [],
   "source": [
    "import numpy as np\n",
    "\n",
    "X=np.array([4,2,-5,6,1])"
   ]
  },
  {
   "cell_type": "code",
   "execution_count": 32,
   "metadata": {},
   "outputs": [
    {
     "name": "stdout",
     "output_type": "stream",
     "text": [
      "Using numpy: 3.7202150475476548\n"
     ]
    }
   ],
   "source": [
    "print('Using numpy: ' + str(np.std(X)))"
   ]
  },
  {
   "cell_type": "code",
   "execution_count": 33,
   "metadata": {},
   "outputs": [
    {
     "name": "stdout",
     "output_type": "stream",
     "text": [
      "Using example: 3.7202150475476548\n"
     ]
    }
   ],
   "source": [
    "def calcStd(X):\n",
    "    N = len(X)\n",
    "    s1 = 0\n",
    "    s2 = 0\n",
    "    for i in range(N):\n",
    "        s1 += X[i]\n",
    "        s2 += X[i] * X[i]\n",
    "    avg = s1 / N\n",
    "    return np.sqrt(s2/N - avg**2)\n",
    "\n",
    "print('Using example: ' + str(calcStd(X)))"
   ]
  }
 ],
 "metadata": {
  "kernelspec": {
   "display_name": "Python 3",
   "language": "python",
   "name": "python3"
  },
  "language_info": {
   "codemirror_mode": {
    "name": "ipython",
    "version": 2
   },
   "file_extension": ".py",
   "mimetype": "text/x-python",
   "name": "python",
   "nbconvert_exporter": "python",
   "pygments_lexer": "ipython2",
   "version": "2.7.15+"
  }
 },
 "nbformat": 4,
 "nbformat_minor": 2
}
